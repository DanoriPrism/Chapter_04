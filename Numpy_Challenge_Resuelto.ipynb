{
  "nbformat": 4,
  "nbformat_minor": 0,
  "metadata": {
    "colab": {
      "name": "Numpy_Challenge_Resuelto.ipynb",
      "provenance": [],
      "collapsed_sections": [],
      "include_colab_link": true
    },
    "kernelspec": {
      "name": "python3",
      "display_name": "Python 3"
    }
  },
  "cells": [
    {
      "cell_type": "markdown",
      "metadata": {
        "id": "view-in-github",
        "colab_type": "text"
      },
      "source": [
        "<a href=\"https://colab.research.google.com/github/DanoriPrism/Chapter_04/blob/master/Numpy_Challenge_Resuelto.ipynb\" target=\"_parent\"><img src=\"https://colab.research.google.com/assets/colab-badge.svg\" alt=\"Open In Colab\"/></a>"
      ]
    },
    {
      "cell_type": "markdown",
      "metadata": {
        "id": "sVyBG_cKTAwL",
        "colab_type": "text"
      },
      "source": [
        "#NumPy Challenge"
      ]
    },
    {
      "cell_type": "markdown",
      "metadata": {
        "id": "NSnRQUO1RDEh",
        "colab_type": "text"
      },
      "source": [
        "Create a NumPy ndarray object by using this list of numbers [7,8,4,5,1,2].\n"
      ]
    },
    {
      "cell_type": "code",
      "metadata": {
        "id": "P-2GBUw-Q60r",
        "colab_type": "code",
        "colab": {}
      },
      "source": [
        "import numpy as np\n",
        "\n",
        "arr = np.array([7, 8, 4, 5, 1, 2])"
      ],
      "execution_count": 0,
      "outputs": []
    },
    {
      "cell_type": "markdown",
      "metadata": {
        "id": "zSoe7IVrQ9Gw",
        "colab_type": "text"
      },
      "source": [
        "Using slicing print the elements from index 3 to the end of the array.\n",
        "\n"
      ]
    },
    {
      "cell_type": "code",
      "metadata": {
        "id": "XUVmHemyRM_K",
        "colab_type": "code",
        "outputId": "4d73b3a5-b444-4588-bb13-abddd375b065",
        "colab": {
          "base_uri": "https://localhost:8080/",
          "height": 34
        }
      },
      "source": [
        "print(arr[3:])"
      ],
      "execution_count": 0,
      "outputs": [
        {
          "output_type": "stream",
          "text": [
            "[5 1 2]\n"
          ],
          "name": "stdout"
        }
      ]
    },
    {
      "cell_type": "markdown",
      "metadata": {
        "id": "DejW1hk-ROcM",
        "colab_type": "text"
      },
      "source": [
        "Using slicing print all the elements except the last one.\n",
        "\n"
      ]
    },
    {
      "cell_type": "code",
      "metadata": {
        "id": "W-1sPgknSbQg",
        "colab_type": "code",
        "outputId": "d40423a0-f182-436e-89e4-1d5e0d4b49fc",
        "colab": {
          "base_uri": "https://localhost:8080/",
          "height": 34
        }
      },
      "source": [
        "print(arr[:5])"
      ],
      "execution_count": 0,
      "outputs": [
        {
          "output_type": "stream",
          "text": [
            "[7 8 4 5 1]\n"
          ],
          "name": "stdout"
        }
      ]
    },
    {
      "cell_type": "markdown",
      "metadata": {
        "id": "kTE3PxezRSFu",
        "colab_type": "text"
      },
      "source": [
        "Using slicing print the elements from index 1 to index 4 of the array.\n",
        "\n"
      ]
    },
    {
      "cell_type": "code",
      "metadata": {
        "id": "KyuRjCKBRWNO",
        "colab_type": "code",
        "outputId": "8af148ca-c6f5-4fc4-ebea-124b83ee3c2a",
        "colab": {
          "base_uri": "https://localhost:8080/",
          "height": 34
        }
      },
      "source": [
        "print(arr[1:5])"
      ],
      "execution_count": 0,
      "outputs": [
        {
          "output_type": "stream",
          "text": [
            "[8 4 5 1]\n"
          ],
          "name": "stdout"
        }
      ]
    },
    {
      "cell_type": "markdown",
      "metadata": {
        "id": "HlHIAmE3RW9U",
        "colab_type": "text"
      },
      "source": [
        "Reshape the array into a 3 rows and 2 cols (3,2).\n",
        "\n"
      ]
    },
    {
      "cell_type": "code",
      "metadata": {
        "id": "Mh65VUorRZV6",
        "colab_type": "code",
        "outputId": "29d43351-94bd-420b-aa57-5f84b7dc1b0c",
        "colab": {
          "base_uri": "https://localhost:8080/",
          "height": 68
        }
      },
      "source": [
        "newarr = arr.reshape(3, 2)\n",
        "print(newarr)"
      ],
      "execution_count": 0,
      "outputs": [
        {
          "output_type": "stream",
          "text": [
            "[[7 8]\n",
            " [4 5]\n",
            " [1 2]]\n"
          ],
          "name": "stdout"
        }
      ]
    },
    {
      "cell_type": "markdown",
      "metadata": {
        "id": "7EA2AxnKRZ-B",
        "colab_type": "text"
      },
      "source": [
        "Print all the array elements one by one (iterating).\n",
        "\n"
      ]
    },
    {
      "cell_type": "code",
      "metadata": {
        "id": "NA_5SBc9SFNn",
        "colab_type": "code",
        "outputId": "b88c92e7-79fe-4826-cf58-7dc0df5304e4",
        "colab": {
          "base_uri": "https://localhost:8080/",
          "height": 119
        }
      },
      "source": [
        "for x in arr:\n",
        "  print(x)"
      ],
      "execution_count": 0,
      "outputs": [
        {
          "output_type": "stream",
          "text": [
            "7\n",
            "8\n",
            "4\n",
            "5\n",
            "1\n",
            "2\n"
          ],
          "name": "stdout"
        }
      ]
    },
    {
      "cell_type": "markdown",
      "metadata": {
        "id": "gmDsX1y1RcsQ",
        "colab_type": "text"
      },
      "source": [
        "Create a new NumPy ndarray object by using this list of numbers [0,6,9].\n",
        "\n"
      ]
    },
    {
      "cell_type": "code",
      "metadata": {
        "id": "VmE_QUleSD_P",
        "colab_type": "code",
        "colab": {}
      },
      "source": [
        "arr2 = np.array([0, 6, 9])"
      ],
      "execution_count": 0,
      "outputs": []
    },
    {
      "cell_type": "markdown",
      "metadata": {
        "id": "jloT--lqRf7j",
        "colab_type": "text"
      },
      "source": [
        "Join the two arrays.\n",
        "\n"
      ]
    },
    {
      "cell_type": "code",
      "metadata": {
        "id": "unD39X5dSDSn",
        "colab_type": "code",
        "outputId": "7172ae5a-e636-439c-80bb-162c56b81c15",
        "colab": {
          "base_uri": "https://localhost:8080/",
          "height": 34
        }
      },
      "source": [
        "arrt = np.concatenate((arr, arr2))\n",
        "print(arrt)"
      ],
      "execution_count": 0,
      "outputs": [
        {
          "output_type": "stream",
          "text": [
            "[7 8 4 5 1 2 0 6 9]\n"
          ],
          "name": "stdout"
        }
      ]
    },
    {
      "cell_type": "markdown",
      "metadata": {
        "id": "XfoeRhPERjPR",
        "colab_type": "text"
      },
      "source": [
        "Using filtering print only the odd numbers of the joined array.\n",
        "\n"
      ]
    },
    {
      "cell_type": "code",
      "metadata": {
        "id": "Be-oEmWNSCKG",
        "colab_type": "code",
        "outputId": "afad33be-dc4d-4dfa-efa1-b1e572eec709",
        "colab": {
          "base_uri": "https://localhost:8080/",
          "height": 34
        }
      },
      "source": [
        "x = [True, False, False, True, True, False, False, False, True]\n",
        "\n",
        "newarr = arrt[x]\n",
        "\n",
        "print(newarr)"
      ],
      "execution_count": 0,
      "outputs": [
        {
          "output_type": "stream",
          "text": [
            "[7 5 1 9]\n"
          ],
          "name": "stdout"
        }
      ]
    },
    {
      "cell_type": "markdown",
      "metadata": {
        "id": "cMZHbF4JRlwJ",
        "colab_type": "text"
      },
      "source": [
        "Sort the joined array elements.\n",
        "\n"
      ]
    },
    {
      "cell_type": "code",
      "metadata": {
        "id": "d3ta_UTjSBb3",
        "colab_type": "code",
        "outputId": "b2b9a38a-2c23-49f9-918d-91db07d1dc4e",
        "colab": {
          "base_uri": "https://localhost:8080/",
          "height": 34
        }
      },
      "source": [
        "print(np.sort(arrt))"
      ],
      "execution_count": 0,
      "outputs": [
        {
          "output_type": "stream",
          "text": [
            "[0 1 2 4 5 6 7 8 9]\n"
          ],
          "name": "stdout"
        }
      ]
    },
    {
      "cell_type": "markdown",
      "metadata": {
        "id": "F0u9Tf_pRoKR",
        "colab_type": "text"
      },
      "source": [
        "Store in an array the names of the months.\n",
        "\n"
      ]
    },
    {
      "cell_type": "code",
      "metadata": {
        "id": "a6trOwrmSAg6",
        "colab_type": "code",
        "outputId": "fea16635-c63a-40c3-f03a-88d2b7157195",
        "colab": {
          "base_uri": "https://localhost:8080/",
          "height": 51
        }
      },
      "source": [
        "arrm = np.array(['enero', 'febrero', 'marzo', 'abril', 'mayo', 'junio', 'julio', 'agosto', 'septiembre', 'octubre', 'noviembre', 'diciembre'], dtype='S') \n",
        "\n",
        "print(arrm)"
      ],
      "execution_count": 0,
      "outputs": [
        {
          "output_type": "stream",
          "text": [
            "[b'enero' b'febrero' b'marzo' b'abril' b'mayo' b'junio' b'julio' b'agosto'\n",
            " b'septiembre' b'octubre' b'noviembre' b'diciembre']\n"
          ],
          "name": "stdout"
        }
      ]
    },
    {
      "cell_type": "markdown",
      "metadata": {
        "id": "zMHje9-zRqrR",
        "colab_type": "text"
      },
      "source": [
        "Split the months array in 4 periods of 3 elements each one.\n",
        "\n"
      ]
    },
    {
      "cell_type": "code",
      "metadata": {
        "id": "jht0_5-iR_xn",
        "colab_type": "code",
        "outputId": "ba7d60ed-9c84-428f-fc81-a7dfd6b5b8b2",
        "colab": {
          "base_uri": "https://localhost:8080/",
          "height": 54
        }
      },
      "source": [
        "arrm = np.array(['enero', 'febrero', 'marzo', 'abril', 'mayo', 'junio', 'julio', 'agosto', 'septiembre', 'octubre', 'noviembre', 'diciembre'], dtype='S') \n",
        "\n",
        "newarr2 = np.array_split(arrm, 4)\n",
        "print(newarr2)"
      ],
      "execution_count": 0,
      "outputs": [
        {
          "output_type": "stream",
          "text": [
            "[array([b'enero', b'febrero', b'marzo'], dtype='|S10'), array([b'abril', b'mayo', b'junio'], dtype='|S10'), array([b'julio', b'agosto', b'septiembre'], dtype='|S10'), array([b'octubre', b'noviembre', b'diciembre'], dtype='|S10')]\n"
          ],
          "name": "stdout"
        }
      ]
    },
    {
      "cell_type": "markdown",
      "metadata": {
        "id": "ukxoOg5rRtkJ",
        "colab_type": "text"
      },
      "source": [
        "Create an array with genre information ['F','M','F','F','M','F'].\n",
        "\n"
      ]
    },
    {
      "cell_type": "code",
      "metadata": {
        "id": "GZLCMD2OR-4G",
        "colab_type": "code",
        "colab": {}
      },
      "source": [
        "arrg = np.array(['F','M','F','F','M','F'], dtype='S')"
      ],
      "execution_count": 0,
      "outputs": []
    },
    {
      "cell_type": "markdown",
      "metadata": {
        "id": "VlLwuy-ERvzu",
        "colab_type": "text"
      },
      "source": [
        "Find the indexes where the value is F.\n",
        "\n"
      ]
    },
    {
      "cell_type": "code",
      "metadata": {
        "id": "dx0LCoSAR9-w",
        "colab_type": "code",
        "outputId": "b291e7ac-910c-4059-9242-ade862e531ec",
        "colab": {
          "base_uri": "https://localhost:8080/",
          "height": 34
        }
      },
      "source": [
        "newarrg = arrg.astype(str)\n",
        "\n",
        "x = np.where(newarrg == 'F')\n",
        "print(x)"
      ],
      "execution_count": 0,
      "outputs": [
        {
          "output_type": "stream",
          "text": [
            "(array([0, 2, 3, 5]),)\n"
          ],
          "name": "stdout"
        }
      ]
    },
    {
      "cell_type": "markdown",
      "metadata": {
        "id": "y0Uk475sRytB",
        "colab_type": "text"
      },
      "source": [
        "Store in an array the age information [18,20,19,23,19,20].\n",
        "\n"
      ]
    },
    {
      "cell_type": "code",
      "metadata": {
        "id": "tABLVP7gR9QP",
        "colab_type": "code",
        "colab": {}
      },
      "source": [
        "arra = np.array([18,20,19,23,19,20])"
      ],
      "execution_count": 0,
      "outputs": []
    },
    {
      "cell_type": "markdown",
      "metadata": {
        "id": "D-VswLqJR05A",
        "colab_type": "text"
      },
      "source": [
        "Create a filter array with values < 20.\n",
        "\n"
      ]
    },
    {
      "cell_type": "code",
      "metadata": {
        "id": "tk4jIi3pR8aZ",
        "colab_type": "code",
        "outputId": "7000896e-8d3f-498f-8fd8-b2322aaf15d6",
        "colab": {
          "base_uri": "https://localhost:8080/",
          "height": 34
        }
      },
      "source": [
        "filter_arr = arra < 20\n",
        "newarra = arra[filter_arr]\n",
        "print(newarra)\n"
      ],
      "execution_count": 0,
      "outputs": [
        {
          "output_type": "stream",
          "text": [
            "[18 19 19]\n"
          ],
          "name": "stdout"
        }
      ]
    },
    {
      "cell_type": "markdown",
      "metadata": {
        "id": "aiGbZbwHR3CJ",
        "colab_type": "text"
      },
      "source": [
        "Change the 3 index element with a value of 22\n",
        "\n"
      ]
    },
    {
      "cell_type": "code",
      "metadata": {
        "id": "OMpH-wT6R7iK",
        "colab_type": "code",
        "outputId": "2045088f-7bdc-486a-8736-965c5efe0606",
        "colab": {
          "base_uri": "https://localhost:8080/",
          "height": 34
        }
      },
      "source": [
        "print(arra[3]-1)"
      ],
      "execution_count": 0,
      "outputs": [
        {
          "output_type": "stream",
          "text": [
            "22\n"
          ],
          "name": "stdout"
        }
      ]
    },
    {
      "cell_type": "markdown",
      "metadata": {
        "id": "0DELnRV_R5Df",
        "colab_type": "text"
      },
      "source": [
        "Print the 4 index element."
      ]
    },
    {
      "cell_type": "code",
      "metadata": {
        "id": "SOg99cxZR6ZX",
        "colab_type": "code",
        "outputId": "99ac6c2b-5845-4d0f-9ef6-9e0b241d99b0",
        "colab": {
          "base_uri": "https://localhost:8080/",
          "height": 34
        }
      },
      "source": [
        "print(arra[4])"
      ],
      "execution_count": 0,
      "outputs": [
        {
          "output_type": "stream",
          "text": [
            "19\n"
          ],
          "name": "stdout"
        }
      ]
    }
  ]
}